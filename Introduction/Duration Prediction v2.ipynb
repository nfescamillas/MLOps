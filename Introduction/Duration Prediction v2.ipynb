{
 "cells": [
  {
   "cell_type": "code",
   "execution_count": 1,
   "id": "a02e2ac3-96b3-4b25-b435-4be4962bf024",
   "metadata": {},
   "outputs": [
    {
     "name": "stdout",
     "output_type": "stream",
     "text": [
      "Python 3.11.7\n"
     ]
    }
   ],
   "source": [
    "!python -V"
   ]
  },
  {
   "cell_type": "code",
   "execution_count": 2,
   "id": "e9ce2f51-d03e-4e9e-a983-0385baa7194f",
   "metadata": {},
   "outputs": [],
   "source": [
    "import pandas as pd\n",
    "import pickle\n",
    "from sklearn. feature_extraction import DictVectorizer\n",
    "from sklearn.linear_model import LinearRegression\n",
    "from sklearn.linear_model import Lasso\n",
    "from sklearn.metrics import mean_squared_error"
   ]
  },
  {
   "cell_type": "code",
   "execution_count": 3,
   "id": "0d3d2a96-8fd5-434f-8227-8da212177612",
   "metadata": {},
   "outputs": [],
   "source": [
    "def get_dataframe(filename):\n",
    "\n",
    "    df =pd.read_parquet(filename)\n",
    "    print(\"The number of columns before was \",len(df.columns))\n",
    "    df['duration'] = df.lpep_dropoff_datetime-df.lpep_pickup_datetime  \n",
    "    df['duration'] = df.lpep_dropoff_datetime-df.lpep_pickup_datetime\n",
    "    df.duration=df.duration.apply(lambda x :x.total_seconds()/60)\n",
    "    print(\"The SD for duration is \",df.duration.std())\n",
    "    old = df.shape[0]\n",
    "    df=df[(df.duration >=1 ) & (df.duration <=60)]\n",
    "    new=df.shape[0]\n",
    "    perc = new/old *100\n",
    "    print(\"The number of columns now is \",len(df.columns))\n",
    "    print(\" The number of retained records is \", perc)\n",
    "    categorical=['PULocationID' ,'DOLocationID']\n",
    "    df[categorical] =df[categorical].astype(str)\n",
    "    print(df.info())\n",
    "    return df"
   ]
  },
  {
   "cell_type": "code",
   "execution_count": 4,
   "id": "8fa4304a-250d-4400-9967-c93d03ccf5b7",
   "metadata": {},
   "outputs": [
    {
     "name": "stdout",
     "output_type": "stream",
     "text": [
      "The number of columns before was  20\n",
      "The SD for duration is  74.92563122537368\n",
      "The number of columns now is  21\n",
      " The number of retained records is  96.6794212077231\n",
      "<class 'pandas.core.frame.DataFrame'>\n",
      "Index: 65946 entries, 0 to 68210\n",
      "Data columns (total 21 columns):\n",
      " #   Column                 Non-Null Count  Dtype         \n",
      "---  ------                 --------------  -----         \n",
      " 0   VendorID               65946 non-null  int64         \n",
      " 1   lpep_pickup_datetime   65946 non-null  datetime64[us]\n",
      " 2   lpep_dropoff_datetime  65946 non-null  datetime64[us]\n",
      " 3   store_and_fwd_flag     61656 non-null  object        \n",
      " 4   RatecodeID             61656 non-null  float64       \n",
      " 5   PULocationID           65946 non-null  object        \n",
      " 6   DOLocationID           65946 non-null  object        \n",
      " 7   passenger_count        61656 non-null  float64       \n",
      " 8   trip_distance          65946 non-null  float64       \n",
      " 9   fare_amount            65946 non-null  float64       \n",
      " 10  extra                  65946 non-null  float64       \n",
      " 11  mta_tax                65946 non-null  float64       \n",
      " 12  tip_amount             65946 non-null  float64       \n",
      " 13  tolls_amount           65946 non-null  float64       \n",
      " 14  ehail_fee              0 non-null      object        \n",
      " 15  improvement_surcharge  65946 non-null  float64       \n",
      " 16  total_amount           65946 non-null  float64       \n",
      " 17  payment_type           61656 non-null  float64       \n",
      " 18  trip_type              61651 non-null  float64       \n",
      " 19  congestion_surcharge   61656 non-null  float64       \n",
      " 20  duration               65946 non-null  float64       \n",
      "dtypes: datetime64[us](2), float64(14), int64(1), object(4)\n",
      "memory usage: 11.1+ MB\n",
      "None\n"
     ]
    }
   ],
   "source": [
    "dft = get_dataframe('/home/nikki/data/green_tripdata_2023-01.parquet')\n"
   ]
  },
  {
   "cell_type": "code",
   "execution_count": 5,
   "id": "9e95fb06-a23d-4087-951b-70731e5f13d7",
   "metadata": {
    "scrolled": true
   },
   "outputs": [
    {
     "name": "stdout",
     "output_type": "stream",
     "text": [
      "The number of columns before was  20\n",
      "The SD for duration is  69.28096981389244\n",
      "The number of columns now is  21\n",
      " The number of retained records is  96.55140489746795\n",
      "<class 'pandas.core.frame.DataFrame'>\n",
      "Index: 62574 entries, 0 to 64808\n",
      "Data columns (total 21 columns):\n",
      " #   Column                 Non-Null Count  Dtype         \n",
      "---  ------                 --------------  -----         \n",
      " 0   VendorID               62574 non-null  int32         \n",
      " 1   lpep_pickup_datetime   62574 non-null  datetime64[us]\n",
      " 2   lpep_dropoff_datetime  62574 non-null  datetime64[us]\n",
      " 3   store_and_fwd_flag     57827 non-null  object        \n",
      " 4   RatecodeID             57827 non-null  float64       \n",
      " 5   PULocationID           62574 non-null  object        \n",
      " 6   DOLocationID           62574 non-null  object        \n",
      " 7   passenger_count        57827 non-null  float64       \n",
      " 8   trip_distance          62574 non-null  float64       \n",
      " 9   fare_amount            62574 non-null  float64       \n",
      " 10  extra                  62574 non-null  float64       \n",
      " 11  mta_tax                62574 non-null  float64       \n",
      " 12  tip_amount             62574 non-null  float64       \n",
      " 13  tolls_amount           62574 non-null  float64       \n",
      " 14  ehail_fee              0 non-null      float64       \n",
      " 15  improvement_surcharge  62574 non-null  float64       \n",
      " 16  total_amount           62574 non-null  float64       \n",
      " 17  payment_type           57827 non-null  float64       \n",
      " 18  trip_type              57825 non-null  float64       \n",
      " 19  congestion_surcharge   57827 non-null  float64       \n",
      " 20  duration               62574 non-null  float64       \n",
      "dtypes: datetime64[us](2), float64(15), int32(1), object(3)\n",
      "memory usage: 10.3+ MB\n",
      "None\n"
     ]
    }
   ],
   "source": [
    "dfv= get_dataframe('/home/nikki/data/green_tripdata_2023-02.parquet')"
   ]
  },
  {
   "cell_type": "code",
   "execution_count": 6,
   "id": "f99f2c5f-395e-4c87-8c53-ae91a024a513",
   "metadata": {},
   "outputs": [
    {
     "name": "stdout",
     "output_type": "stream",
     "text": [
      "PULocationID    object\n",
      "DOLocationID    object\n",
      "dtype: object\n",
      "PULocationID    object\n",
      "DOLocationID    object\n",
      "dtype: object\n"
     ]
    }
   ],
   "source": [
    "numerical=['trip_distance']\n",
    "categorical =['PULocationID' ,'DOLocationID']\n",
    "print(dft[categorical].dtypes)\n",
    "print(dfv[categorical].dtypes)"
   ]
  },
  {
   "cell_type": "code",
   "execution_count": 7,
   "id": "9346971b-94ef-48fe-99b7-e42c2edd290c",
   "metadata": {},
   "outputs": [],
   "source": [
    "\n",
    "#dft['PU_DO'] =dft['PULocationID']+ '_'+dft['DOLocationID']\n",
    "#dfv['PU_DO'] =dfv['PULocationID']+ '_'+dfv['DOLocationID']\n",
    "\n",
    "\n",
    "dv= DictVectorizer()\n",
    "target = 'duration'\n",
    "\n",
    "train_dicts =dft[categorical + numerical].to_dict(orient='records')\n",
    "X_train =dv.fit_transform(train_dicts)\n",
    "y_train=dft[target].values\n",
    "\n",
    "\n",
    "val_dicts =dfv[categorical + numerical].to_dict(orient='records')\n",
    "X_val =dv.transform(val_dicts)\n",
    "\n",
    "y_val=dfv[target].values"
   ]
  },
  {
   "cell_type": "code",
   "execution_count": 8,
   "id": "30158e3e-3fc0-4a99-898b-7f755561f871",
   "metadata": {},
   "outputs": [
    {
     "data": {
      "text/plain": [
       "468"
      ]
     },
     "execution_count": 8,
     "metadata": {},
     "output_type": "execute_result"
    }
   ],
   "source": [
    "len(dv.feature_names_)"
   ]
  },
  {
   "cell_type": "code",
   "execution_count": 9,
   "id": "c2a3df27-aaa7-4503-9a12-c85bb9d882e0",
   "metadata": {},
   "outputs": [
    {
     "data": {
      "text/plain": [
       "7.060351532414825"
      ]
     },
     "execution_count": 9,
     "metadata": {},
     "output_type": "execute_result"
    }
   ],
   "source": [
    "lr = LinearRegression()\n",
    "lr.fit(X_train,y_train)\n",
    "y_pred= lr.predict(X_train)\n",
    "mean_squared_error(y_train, y_pred,squared=False)"
   ]
  },
  {
   "cell_type": "code",
   "execution_count": 10,
   "id": "babdee4c-55ce-4304-b41c-00b3c1034500",
   "metadata": {},
   "outputs": [
    {
     "data": {
      "text/plain": [
       "7.3553759711175255"
      ]
     },
     "execution_count": 10,
     "metadata": {},
     "output_type": "execute_result"
    }
   ],
   "source": [
    "y_pred= lr.predict(X_val)\n",
    "mean_squared_error(y_val, y_pred,squared=False)"
   ]
  },
  {
   "cell_type": "code",
   "execution_count": 11,
   "id": "34148e7c-e81d-421e-b884-37384c628ef4",
   "metadata": {},
   "outputs": [
    {
     "data": {
      "text/plain": [
       "7.493687548081052"
      ]
     },
     "execution_count": 11,
     "metadata": {},
     "output_type": "execute_result"
    }
   ],
   "source": [
    "ls =Lasso(alpha =0.01)\n",
    "ls.fit(X_train,y_train)\n",
    "y_pred= ls.predict(X_train)\n",
    "mean_squared_error(y_train, y_pred,squared=False)"
   ]
  },
  {
   "cell_type": "code",
   "execution_count": 12,
   "id": "bb14b4cc-a713-4155-bd30-f0ba81ec472c",
   "metadata": {},
   "outputs": [
    {
     "data": {
      "text/plain": [
       "7.740541267630343"
      ]
     },
     "execution_count": 12,
     "metadata": {},
     "output_type": "execute_result"
    }
   ],
   "source": [
    "y_pred= ls.predict(X_val)\n",
    "mean_squared_error(y_val, y_pred,squared=False)"
   ]
  },
  {
   "cell_type": "code",
   "execution_count": 13,
   "id": "755048ef-63cf-4fd7-9673-347f33e1230d",
   "metadata": {},
   "outputs": [],
   "source": [
    "with open('/home/nikki/models/linreg2.bin','wb') as f_out:\n",
    "    pickle.dump((dv,lr),f_out)"
   ]
  }
 ],
 "metadata": {
  "kernelspec": {
   "display_name": "Python 3 (ipykernel)",
   "language": "python",
   "name": "python3"
  },
  "language_info": {
   "codemirror_mode": {
    "name": "ipython",
    "version": 3
   },
   "file_extension": ".py",
   "mimetype": "text/x-python",
   "name": "python",
   "nbconvert_exporter": "python",
   "pygments_lexer": "ipython3",
   "version": "3.11.7"
  }
 },
 "nbformat": 4,
 "nbformat_minor": 5
}
